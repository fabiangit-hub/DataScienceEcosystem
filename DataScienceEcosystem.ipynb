{
 "cells": [
  {
   "cell_type": "markdown",
   "id": "51e0ad67-c3e9-4449-bcad-e415c58f749f",
   "metadata": {},
   "source": [
    "# Data Science Tools and Ecosystem"
   ]
  },
  {
   "cell_type": "markdown",
   "id": "3ba9ea85-b2f1-4ba2-b9e0-b7ac3c894382",
   "metadata": {},
   "source": [
    "In this notebook, Data Science Tools and Ecosystem are summarized"
   ]
  },
  {
   "cell_type": "markdown",
   "id": "67525fb4-9651-422f-b104-bc7670dc7f64",
   "metadata": {},
   "source": [
    "#### Objectives:\n",
    "\n",
    "- List popular libraries for Data Science\n",
    "- List commonly Data Science Tools\n",
    "- Evaluating basic arithmetic expressions in Python\n",
    "- List popular languages for Data Science"
   ]
  },
  {
   "cell_type": "markdown",
   "id": "b6122c56-c98d-4135-b532-7f96af2d3e3d",
   "metadata": {},
   "source": [
    "Some of the popular languages that Data Scientists use are:\n",
    "\n",
    "1. Python\n",
    "2. R\n",
    "3. Java"
   ]
  },
  {
   "cell_type": "markdown",
   "id": "3dd0977b-fd2a-4ce3-8551-474c97356845",
   "metadata": {},
   "source": [
    "Some of the commonly used libraries used by Data Scientists include:\n",
    "\n",
    "1. Numpy\n",
    "2. Pandas\n",
    "3. Matplotlib"
   ]
  },
  {
   "cell_type": "markdown",
   "id": "614dd5c0-755c-4f83-9aef-4ee95d2955b0",
   "metadata": {},
   "source": [
    "| Data Science Tools | \n",
    "| --- |\n",
    "| Jupyter Notebook |\n",
    "| RStudio |\n",
    "| Spyder |"
   ]
  },
  {
   "cell_type": "markdown",
   "id": "caf93467-b8ec-45d6-ba94-3f62f5621cff",
   "metadata": {},
   "source": [
    "### Below are a few expamples of evaluating arithmetic expressions in Python"
   ]
  },
  {
   "cell_type": "code",
   "execution_count": 18,
   "id": "16f4e774-a41b-4f5d-9f6d-7b53770ce44a",
   "metadata": {},
   "outputs": [
    {
     "name": "stdout",
     "output_type": "stream",
     "text": [
      "17\n"
     ]
    }
   ],
   "source": [
    "# This is a simple arithmetic expression to multiply then add integers\n",
    "calculation = (3*4)+5\n",
    "\n",
    "print(calculation)"
   ]
  },
  {
   "cell_type": "code",
   "execution_count": 22,
   "id": "adad4ca7-e14e-4225-b457-ca67437b969a",
   "metadata": {},
   "outputs": [
    {
     "name": "stdout",
     "output_type": "stream",
     "text": [
      "3.3333333333333335\n"
     ]
    }
   ],
   "source": [
    "# This will convert 200 minutes to hours by dividing by 60\n",
    "conversion = 200/60\n",
    "\n",
    "print(conversion)"
   ]
  },
  {
   "cell_type": "markdown",
   "id": "683904ee-d659-4306-99bb-4700e77427a2",
   "metadata": {},
   "source": [
    "## Author\n",
    "Fabian"
   ]
  }
 ],
 "metadata": {
  "kernelspec": {
   "display_name": "Python 3 (ipykernel)",
   "language": "python",
   "name": "python3"
  },
  "language_info": {
   "codemirror_mode": {
    "name": "ipython",
    "version": 3
   },
   "file_extension": ".py",
   "mimetype": "text/x-python",
   "name": "python",
   "nbconvert_exporter": "python",
   "pygments_lexer": "ipython3",
   "version": "3.12.7"
  }
 },
 "nbformat": 4,
 "nbformat_minor": 5
}
